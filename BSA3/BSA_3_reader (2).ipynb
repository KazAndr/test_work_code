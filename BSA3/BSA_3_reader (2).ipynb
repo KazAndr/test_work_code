{
 "cells": [
  {
   "cell_type": "code",
   "execution_count": 1,
   "metadata": {
    "collapsed": true
   },
   "outputs": [],
   "source": [
    "import re\n",
    "from struct import pack, unpack\n",
    "import matplotlib.pyplot as mpl"
   ]
  },
  {
   "cell_type": "code",
   "execution_count": null,
   "metadata": {
    "collapsed": true
   },
   "outputs": [],
   "source": []
  },
  {
   "cell_type": "code",
   "execution_count": null,
   "metadata": {
    "collapsed": true
   },
   "outputs": [],
   "source": []
  },
  {
   "cell_type": "code",
   "execution_count": 2,
   "metadata": {},
   "outputs": [],
   "source": [
    "header = dict()\n",
    "    \n",
    "header_list = [] # Определение вспомогательного списка для работы регулярной конструкции\n",
    "\n",
    "    \n",
    "f = open('010617_00_N1_00.pnt', 'rb')\n",
    "\n",
    "first_line = f.readline() # Считывание количества параметров из файла\n",
    "    \n",
    "# Блок записи заголовка через регулярную конструкцию в словарь\n",
    "\n",
    "header_re = re.compile(r'(?P<key>\\w*)\\s*(?P<value>.*)')\n",
    "average_profile_re = re.compile(r'(?P<key>\\w*)\\s*(?P<value>.*)') \n",
    "\n",
    "res_dict = header_re.search(first_line.decode('utf-8')).groupdict()\n",
    "\n",
    "header_list.append(res_dict[\"key\"])\n",
    "\n",
    "for k in range(int(res_dict['value'])-1):\n",
    "    line = f.readline()\n",
    "    res_dict = header_re.search(line.decode('utf-8')).groupdict()\n",
    "    header_list.append(res_dict[\"key\"])\n",
    "    header[res_dict[\"key\"]] = res_dict[\"value\"] \n",
    "    \n",
    "    \n",
    "    \n",
    "line_data = f.readline()    \n",
    "    \n",
    "f.close()"
   ]
  },
  {
   "cell_type": "code",
   "execution_count": 3,
   "metadata": {},
   "outputs": [
    {
     "data": {
      "text/plain": [
       "{'alpha': 'alpha',\n",
       " 'date_begin': '31.05.2017 UTC 31.05.2017',\n",
       " 'date_end': '01.06.2017',\n",
       " 'delta': 'delta',\n",
       " 'fbands': '109.20751953125 109.62255859375 110.03759765625 110.45263671875 110.86767578125 111.28759765625',\n",
       " 'fcentral': '110.25',\n",
       " 'modulus': '1 2 3 4 5 6',\n",
       " 'nbands': '6',\n",
       " 'npoints': '36018',\n",
       " 'source': 'source',\n",
       " 'time_begin': '23:00:00 UTC 19:00:00',\n",
       " 'time_end': '0:00:00',\n",
       " 'tresolution': '99.9424',\n",
       " 'wb_total': '2.5',\n",
       " 'wbands': '0.4150390625 0.4150390625 0.4150390625 0.4150390625 0.4150390625 0.4248046875'}"
      ]
     },
     "execution_count": 3,
     "metadata": {},
     "output_type": "execute_result"
    }
   ],
   "source": [
    "header"
   ]
  },
  {
   "cell_type": "code",
   "execution_count": 4,
   "metadata": {
    "scrolled": false
   },
   "outputs": [
    {
     "data": {
      "text/plain": [
       "b\"0\\xfe*>?\\xda,>Nie>[B^>\\xb9wL>\\x940M>>tH>\\xe3\\xa0'>\\xb3\\xd7C>\\xf5rH>a\\xc0]>\\x18\\x10X>\\x0b\\xbcA>u\\x16G>\\xb9o\\x06>|\\xae\\x06>m\\xed\\x0b>#?8>h\\x8a\\x1f>\\xa2p\\x13>\\xacO\\x16>\\xdbEe>\\xb87\\x9e>xm\\x9b>\\xca\\xde\\xac>\\xc0}\\xa8>\\x97[\\x8e>M\\xb6\\x97>v\\xc4%>t\\xf6*>\\xf5\\x14K>H\\xc6i>\\x8dsR>\\xde\\x10?>\\x90\\xbeC>`\\x182>1R7>\\xfe6^>\\xbe\\xa5h>w\\x03^>\\xd7\\x9dQ>\\x12\\xceO>!\\xf4Q>\\xe9Jh>1*p>\\x7f\\x9d\\x92>\\xae\\x12\\x87>\\xdd\\x8bu>+\\xbfx>\\xf6w]>=\\xe4\\x8d>\\xaf\\x11\\x8e>\\x95i\\xa0>\\xdd,\\xa1>m\\x05\\x8a>\\xa0b\\x8e>@}\\x0b>\\xd7\\xb5 >3;/>\\xbc\\x9fD>\\xc7\\x862>\\xc43\\x1d>\\x7f\\xaa'>\\xd9A\\x02>\\x19B\\x05>\\x815\\x15>\\xf8\\x993>w\\xc9'>;w\\x16>:\\xf5\\x17>\\x91\\xc7\\xf1={\\xd9\\x01>+(\\x07>:\\x0c*>\\n\""
      ]
     },
     "execution_count": 4,
     "metadata": {},
     "output_type": "execute_result"
    }
   ],
   "source": [
    "line_data"
   ]
  },
  {
   "cell_type": "code",
   "execution_count": 5,
   "metadata": {},
   "outputs": [],
   "source": [
    "line_data_array = bytearray(line_data)"
   ]
  },
  {
   "cell_type": "code",
   "execution_count": 6,
   "metadata": {},
   "outputs": [
    {
     "data": {
      "text/plain": [
       "297"
      ]
     },
     "execution_count": 6,
     "metadata": {},
     "output_type": "execute_result"
    }
   ],
   "source": [
    "len(line_data_array)"
   ]
  },
  {
   "cell_type": "code",
   "execution_count": 7,
   "metadata": {},
   "outputs": [
    {
     "ename": "NameError",
     "evalue": "name 'modulus' is not defined",
     "output_type": "error",
     "traceback": [
      "\u001b[0;31m---------------------------------------------------------------------------\u001b[0m",
      "\u001b[0;31mNameError\u001b[0m                                 Traceback (most recent call last)",
      "\u001b[0;32m<ipython-input-7-344dea2586fa>\u001b[0m in \u001b[0;36m<module>\u001b[0;34m()\u001b[0m\n\u001b[0;32m----> 1\u001b[0;31m \u001b[0munpack\u001b[0m\u001b[1;33m(\u001b[0m\u001b[1;34m'f'\u001b[0m\u001b[1;33m*\u001b[0m\u001b[0mlen\u001b[0m\u001b[1;33m(\u001b[0m\u001b[0mmodulus\u001b[0m\u001b[1;33m)\u001b[0m\u001b[1;33m,\u001b[0m \u001b[1;33m)\u001b[0m\u001b[1;33m\u001b[0m\u001b[0m\n\u001b[0m",
      "\u001b[0;31mNameError\u001b[0m: name 'modulus' is not defined"
     ]
    }
   ],
   "source": [
    "unpack('f'*len(modulus), )"
   ]
  },
  {
   "cell_type": "code",
   "execution_count": 11,
   "metadata": {},
   "outputs": [],
   "source": [
    "def get_data(filename,header):\n",
    "    print(\"reading\")\n",
    "    nbands = int(header[\"nbands\"])\n",
    "    npoints = int(header[\"npoints\"])\n",
    "    modulus = [ x for x in range(nbands)]\n",
    "    print(modulus)\n",
    "    data = []\n",
    "    p = 0 \n",
    "    modulus.append(max(modulus)+1)\n",
    "\n",
    "    print(modulus)\n",
    "    '''\n",
    "    with open(filename, 'rb') as inh:\n",
    "        for k in range(16):\n",
    "            line = inh.readline()\n",
    "\n",
    "        for t in range(npoints):\n",
    "            data.append([])\n",
    "            for r in range(48):\n",
    "                data[t].append([])\n",
    "                data[t][r].extend(list(unpack('f'*len(modulus),inh.read(4*len(modulus)))[0:(nbands+1)]))                       \n",
    "    return data\n",
    "    \n",
    "    '''\n",
    "    return"
   ]
  },
  {
   "cell_type": "code",
   "execution_count": 12,
   "metadata": {},
   "outputs": [
    {
     "name": "stdout",
     "output_type": "stream",
     "text": [
      "reading\n",
      "[0, 1, 2, 3, 4, 5]\n",
      "[0, 1, 2, 3, 4, 5, 6]\n"
     ]
    }
   ],
   "source": [
    "get_data('010617_00_N1_00.pnt', header)"
   ]
  },
  {
   "cell_type": "code",
   "execution_count": 57,
   "metadata": {},
   "outputs": [
    {
     "name": "stdout",
     "output_type": "stream",
     "text": [
      "reading\n",
      "CPU times: user 4.25 s, sys: 220 ms, total: 4.47 s\n",
      "Wall time: 34.3 s\n"
     ]
    }
   ],
   "source": [
    "%time data = get_data('010617_00_N1_00.pnt', header)"
   ]
  },
  {
   "cell_type": "code",
   "execution_count": 58,
   "metadata": {
    "collapsed": true
   },
   "outputs": [],
   "source": [
    "%reload_ext cython"
   ]
  },
  {
   "cell_type": "code",
   "execution_count": 79,
   "metadata": {},
   "outputs": [],
   "source": [
    "%%cython\n",
    "\n",
    "import os\n",
    "from struct import pack, unpack\n",
    "\n",
    "def get_data_cy(str filename, header):\n",
    "    print(\"reading\")\n",
    "    \n",
    "    cdef long int nbands, npoints, k, t, r, x, p\n",
    "    \n",
    "    nbands = int(header[\"nbands\"])\n",
    "    npoints = int(header[\"npoints\"])\n",
    "    modulus = [ x for x in range(nbands)]\n",
    "    data = []\n",
    "    p = 0 \n",
    "    modulus.append(max(modulus)+1)\n",
    "\n",
    "\n",
    "    with open(filename, 'rb') as inh:\n",
    "        for k in range(16):\n",
    "            line = inh.readline()\n",
    "\n",
    "        for t in range(npoints):\n",
    "            data.append([])\n",
    "            for r in range(48):\n",
    "                data[t].append([])\n",
    "                data[t][r].extend(list(unpack('f'*len(modulus),inh.read(4*len(modulus)))[0:(nbands+1)]))                       \n",
    "    return data"
   ]
  },
  {
   "cell_type": "code",
   "execution_count": 80,
   "metadata": {},
   "outputs": [
    {
     "name": "stdout",
     "output_type": "stream",
     "text": [
      "reading\n",
      "CPU times: user 4.3 s, sys: 1.05 s, total: 5.35 s\n",
      "Wall time: 3min 3s\n"
     ]
    }
   ],
   "source": [
    "%time data = get_data_cy('010617_00_N1_00.pnt', header)"
   ]
  },
  {
   "cell_type": "code",
   "execution_count": 46,
   "metadata": {},
   "outputs": [
    {
     "data": {
      "text/plain": [
       "36018"
      ]
     },
     "execution_count": 46,
     "metadata": {},
     "output_type": "execute_result"
    }
   ],
   "source": [
    "len(data)"
   ]
  },
  {
   "cell_type": "code",
   "execution_count": null,
   "metadata": {
    "collapsed": true
   },
   "outputs": [],
   "source": []
  },
  {
   "cell_type": "code",
   "execution_count": 18,
   "metadata": {},
   "outputs": [
    {
     "data": {
      "text/plain": [
       "48"
      ]
     },
     "execution_count": 18,
     "metadata": {},
     "output_type": "execute_result"
    }
   ],
   "source": [
    "len(data[0])"
   ]
  },
  {
   "cell_type": "code",
   "execution_count": 48,
   "metadata": {},
   "outputs": [
    {
     "data": {
      "text/plain": [
       "7"
      ]
     },
     "execution_count": 48,
     "metadata": {},
     "output_type": "execute_result"
    }
   ],
   "source": [
    "len(data[0][0])"
   ]
  },
  {
   "cell_type": "code",
   "execution_count": 52,
   "metadata": {},
   "outputs": [
    {
     "data": {
      "text/plain": [
       "0.16698527336120605"
      ]
     },
     "execution_count": 52,
     "metadata": {},
     "output_type": "execute_result"
    }
   ],
   "source": [
    "data[0][0][0]"
   ]
  },
  {
   "cell_type": "code",
   "execution_count": 26,
   "metadata": {},
   "outputs": [],
   "source": [
    "_max = max(data[0])"
   ]
  },
  {
   "cell_type": "code",
   "execution_count": 27,
   "metadata": {},
   "outputs": [
    {
     "data": {
      "text/plain": [
       "7"
      ]
     },
     "execution_count": 27,
     "metadata": {},
     "output_type": "execute_result"
    }
   ],
   "source": [
    "len(_max)"
   ]
  },
  {
   "cell_type": "code",
   "execution_count": 25,
   "metadata": {},
   "outputs": [
    {
     "data": {
      "text/plain": [
       "0.22403451800346375"
      ]
     },
     "execution_count": 25,
     "metadata": {},
     "output_type": "execute_result"
    }
   ],
   "source": [
    "_max"
   ]
  },
  {
   "cell_type": "code",
   "execution_count": 28,
   "metadata": {},
   "outputs": [
    {
     "data": {
      "text/plain": [
       "[0.4321376085281372,\n",
       " 0.4774467349052429,\n",
       " 0.4925228953361511,\n",
       " 0.572849690914154,\n",
       " 0.5441152453422546,\n",
       " 0.49466472864151,\n",
       " 0.5023987889289856]"
      ]
     },
     "execution_count": 28,
     "metadata": {},
     "output_type": "execute_result"
    }
   ],
   "source": [
    "_max"
   ]
  },
  {
   "cell_type": "code",
   "execution_count": 16,
   "metadata": {},
   "outputs": [
    {
     "data": {
      "text/plain": [
       "'y'"
      ]
     },
     "execution_count": 16,
     "metadata": {},
     "output_type": "execute_result"
    }
   ],
   "source": [
    "max(st)"
   ]
  },
  {
   "cell_type": "code",
   "execution_count": 30,
   "metadata": {
    "collapsed": true
   },
   "outputs": [],
   "source": [
    "test_list = []\n",
    "for i in range(int(header[\"npoints\"])):\n",
    "    test_list.append(data[i][0][0])"
   ]
  },
  {
   "cell_type": "code",
   "execution_count": 31,
   "metadata": {},
   "outputs": [
    {
     "data": {
      "text/plain": [
       "36018"
      ]
     },
     "execution_count": 31,
     "metadata": {},
     "output_type": "execute_result"
    }
   ],
   "source": [
    "len(test_list)"
   ]
  },
  {
   "cell_type": "code",
   "execution_count": 34,
   "metadata": {},
   "outputs": [
    {
     "data": {
      "image/png": "[encoded data removed]",
      "text/plain": [
       "<matplotlib.figure.Figure at 0x7f9d0efc3f28>"
      ]
     },
     "metadata": {},
     "output_type": "display_data"
    }
   ],
   "source": [
    "mpl.plot(test_list)\n",
    "mpl.show()"
   ]
  },
  {
   "cell_type": "code",
   "execution_count": 51,
   "metadata": {},
   "outputs": [],
   "source": [
    "test_list_1 = []\n",
    "for i in range(int(header[\"npoints\"])):\n",
    "    test_list_1.append(data[i][47][6])"
   ]
  },
  {
   "cell_type": "code",
   "execution_count": 52,
   "metadata": {},
   "outputs": [
    {
     "data": {
      "image/png": "[encoded data removed]",
      "text/plain": [
       "<matplotlib.figure.Figure at 0x7f9d0c63ffd0>"
      ]
     },
     "metadata": {},
     "output_type": "display_data"
    }
   ],
   "source": [
    "mpl.plot(test_list_1)\n",
    "mpl.show()"
   ]
  },
  {
   "cell_type": "code",
   "execution_count": 55,
   "metadata": {
    "collapsed": true
   },
   "outputs": [],
   "source": [
    "def f():return 'Yep'"
   ]
  },
  {
   "cell_type": "code",
   "execution_count": 56,
   "metadata": {},
   "outputs": [
    {
     "name": "stdout",
     "output_type": "stream",
     "text": [
      "Yep\n"
     ]
    }
   ],
   "source": [
    "print(f())"
   ]
  },
  {
   "cell_type": "code",
   "execution_count": null,
   "metadata": {
    "collapsed": true
   },
   "outputs": [],
   "source": []
  }
 ],
 "metadata": {
  "kernelspec": {
   "display_name": "Python 3",
   "language": "python",
   "name": "python3"
  },
  "language_info": {
   "codemirror_mode": {
    "name": "ipython",
    "version": 3
   },
   "file_extension": ".py",
   "mimetype": "text/x-python",
   "name": "python",
   "nbconvert_exporter": "python",
   "pygments_lexer": "ipython3",
   "version": "3.7.4"
  }
 },
 "nbformat": 4,
 "nbformat_minor": 1
}
