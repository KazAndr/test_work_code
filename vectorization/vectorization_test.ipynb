{
 "cells": [
  {
   "cell_type": "code",
   "execution_count": 5,
   "metadata": {},
   "outputs": [],
   "source": [
    "import numpy as np\n",
    "from math import sin\n",
    "import matplotlib.pyplot as plt\n",
    "import time\n",
    "\n",
    "%matplotlib inline"
   ]
  },
  {
   "cell_type": "code",
   "execution_count": 2,
   "metadata": {},
   "outputs": [],
   "source": [
    "# Количество точек тестирования\n",
    "N_point  = 1000\n",
    "\n",
    "# Пользовательская функция с условными циклами\n",
    "def myfunc(x,y):\n",
    "    if (x>0.5*y and y<0.3):\n",
    "        return (sin(x-y))\n",
    "    elif (x<0.5*y):\n",
    "        return 0\n",
    "    elif (x>0.2*y):\n",
    "        return (2*sin(x+2*y))\n",
    "    else:\n",
    "        return (sin(y+x))"
   ]
  },
  {
   "cell_type": "code",
   "execution_count": 3,
   "metadata": {},
   "outputs": [],
   "source": [
    "# Список элементов, сфомированных по закону нормального распределения\n",
    "lst_x = np.random.randn(N_point)\n",
    "lst_y = np.random.randn(N_point)\n",
    "lst_result = []"
   ]
  },
  {
   "cell_type": "code",
   "execution_count": 6,
   "metadata": {},
   "outputs": [
    {
     "data": {
      "image/png": "[encoded data removed]",
      "text/plain": [
       "<Figure size 432x288 with 1 Axes>"
      ]
     },
     "metadata": {
      "needs_background": "light"
     },
     "output_type": "display_data"
    },
    {
     "data": {
      "image/png": "[encoded data removed]",
      "text/plain": [
       "<Figure size 432x288 with 1 Axes>"
      ]
     },
     "metadata": {
      "needs_background": "light"
     },
     "output_type": "display_data"
    }
   ],
   "source": [
    "# Визуализация в виде графиков\n",
    "plt.hist(lst_x,bins=20)\n",
    "plt.show()\n",
    "plt.hist(lst_y,bins=20)\n",
    "plt.show()"
   ]
  },
  {
   "cell_type": "code",
   "execution_count": 9,
   "metadata": {},
   "outputs": [
    {
     "name": "stdout",
     "output_type": "stream",
     "text": [
      "\n",
      "Время, затраченное обычным for-loop\n",
      "-----------------------------------------------\n",
      "8793.8308715820312 us\n"
     ]
    }
   ],
   "source": [
    "# Сначала чистый for-loop\n",
    "t1=time.time()\n",
    "for i in range(len(lst_x)):\n",
    "    x = lst_x[i]\n",
    "    y= lst_y[i]\n",
    "    if (x>0.5*y and y<0.3):\n",
    "        lst_result.append(sin(x-y))\n",
    "    elif (x<0.5*y):\n",
    "        lst_result.append(0)\n",
    "    elif (x>0.2*y):\n",
    "        lst_result.append(2*sin(x+2*y))\n",
    "    else:\n",
    "        lst_result.append(sin(y+x))\n",
    "t2=time.time()\n",
    "print(\n",
    "    \"\\nВремя, затраченное обычным for-loop\\n{}\\n{} us\".format(\n",
    "        '-'*47,1000000*(t2-t1)\n",
    "    )\n",
    ")"
   ]
  },
  {
   "cell_type": "code",
   "execution_count": 10,
   "metadata": {},
   "outputs": [
    {
     "name": "stdout",
     "output_type": "stream",
     "text": [
      "\n",
      "Время, затраченное списковым выражением и zip()\n",
      "-----------------------------------------------\n",
      "3.16 ms ± 13.3 µs per loop (mean ± std. dev. of 7 runs, 100 loops each)\n"
     ]
    }
   ],
   "source": [
    "# Списковое выражение\n",
    "print(\n",
    "    \"\\nВремя, затраченное списковым выражением и zip()\\n\"+'-'*47\n",
    ")\n",
    "%timeit lst_result = [myfunc(x,y) for x,y in zip(lst_x,lst_y)]"
   ]
  },
  {
   "cell_type": "code",
   "execution_count": 11,
   "metadata": {},
   "outputs": [
    {
     "name": "stdout",
     "output_type": "stream",
     "text": [
      "\n",
      "Время, затраченное функцией map()\n",
      "-----------------------------------------------\n",
      "2.62 ms ± 7.92 µs per loop (mean ± std. dev. of 7 runs, 100 loops each)\n"
     ]
    }
   ],
   "source": [
    "# Функция map()\n",
    "print(\"\\nВремя, затраченное функцией map()\\n\"+'-'*47)\n",
    "%timeit list(map(myfunc,lst_x,lst_y))"
   ]
  },
  {
   "cell_type": "code",
   "execution_count": 13,
   "metadata": {},
   "outputs": [
    {
     "name": "stdout",
     "output_type": "stream",
     "text": [
      "\n",
      "Время, затраченное numpy.vectorize()\n",
      "-----------------------------------------------\n",
      "1.89 ms ± 4.06 µs per loop (mean ± std. dev. of 7 runs, 1000 loops each)\n"
     ]
    }
   ],
   "source": [
    "# Метод Numpy.vectorize()\n",
    "print(\"\\nВремя, затраченное numpy.vectorize()\\n\"+'-'*47)\n",
    "vectfunc = np.vectorize(myfunc,otypes=[np.float],cache=False)\n",
    "%timeit list(vectfunc(lst_x,lst_y))"
   ]
  },
  {
   "cell_type": "markdown",
   "metadata": {},
   "source": [
    "## Next example"
   ]
  },
  {
   "cell_type": "code",
   "execution_count": 14,
   "metadata": {},
   "outputs": [
    {
     "name": "stdout",
     "output_type": "stream",
     "text": [
      "1.3113494790013647\n",
      "0.027010416990378872\n"
     ]
    }
   ],
   "source": [
    "from timeit import Timer\n",
    "\n",
    "li = list(range(500000))\n",
    "nump_arr = np.array(li)\n",
    "\n",
    "def python_for():\n",
    "    return [num + 1 for num in li]\n",
    "\n",
    "def numpy_add():\n",
    "    return nump_arr + 1\n",
    "\n",
    "print(min(Timer(python_for).repeat(10, 10)))\n",
    "print(min(Timer(numpy_add).repeat(10, 10)))"
   ]
  },
  {
   "cell_type": "code",
   "execution_count": null,
   "metadata": {},
   "outputs": [],
   "source": []
  }
 ],
 "metadata": {
  "kernelspec": {
   "display_name": "Python 3",
   "language": "python",
   "name": "python3"
  },
  "language_info": {
   "codemirror_mode": {
    "name": "ipython",
    "version": 3
   },
   "file_extension": ".py",
   "mimetype": "text/x-python",
   "name": "python",
   "nbconvert_exporter": "python",
   "pygments_lexer": "ipython3",
   "version": "3.5.2"
  }
 },
 "nbformat": 4,
 "nbformat_minor": 2
}
