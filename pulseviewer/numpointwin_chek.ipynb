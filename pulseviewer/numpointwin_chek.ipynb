{
 "cells": [
  {
   "cell_type": "code",
   "execution_count": 1,
   "metadata": {},
   "outputs": [
    {
     "name": "stdout",
     "output_type": "stream",
     "text": [
      "Once deleted, variables cannot be recovered. Proceed (y/[n])? y\n"
     ]
    }
   ],
   "source": [
    "reset"
   ]
  },
  {
   "cell_type": "code",
   "execution_count": 9,
   "metadata": {
    "collapsed": true
   },
   "outputs": [],
   "source": [
    "import os\n",
    "import re\n",
    "import glob\n",
    "import datetime"
   ]
  },
  {
   "cell_type": "code",
   "execution_count": 2,
   "metadata": {
    "collapsed": true
   },
   "outputs": [],
   "source": [
    "# пути для windows\n",
    "files_directory = os.path.dirname('C:\\\\Users\\\\Andrey\\\\YandexDisk\\\\3.Программирование\\\\balovstvo&checking\\\\folder_for_files\\\\')"
   ]
  },
  {
   "cell_type": "code",
   "execution_count": 4,
   "metadata": {
    "collapsed": true
   },
   "outputs": [],
   "source": [
    "# пути для Linux\n",
    "files_directory = os.path.dirname('/home/andrey/Yandex.Disk/3.Программирование/balovstvo&checking/folder_for_files/')"
   ]
  },
  {
   "cell_type": "code",
   "execution_count": 3,
   "metadata": {
    "collapsed": true
   },
   "outputs": [],
   "source": [
    "os.chdir(files_directory)"
   ]
  },
  {
   "cell_type": "code",
   "execution_count": 14,
   "metadata": {},
   "outputs": [],
   "source": [
    "average_profile_files = sorted(glob.glob('*average_profile*red.csv'), key=lambda x: datetime.datetime.strptime(x[:10], '%d.%m.%Y'))"
   ]
  },
  {
   "cell_type": "code",
   "execution_count": 15,
   "metadata": {
    "collapsed": true
   },
   "outputs": [],
   "source": [
    "def read_pv_header(filename): # Ф-ия считывания заголовка в словарь и последовательности импульсов в таблицу\n",
    "    \n",
    "    #global header # Определение гломальной переменной словаря для заголовка\n",
    "    \n",
    "    header = dict()\n",
    "    \n",
    "    header_list = [] # Определение вспомогательного списка для работы регулярной конструкции\n",
    "\n",
    "    \n",
    "    f = open(filename, 'r')\n",
    "\n",
    "    #first_line = f.readline() # Считывание количества параметров из файла\n",
    "    \n",
    "    # Блок записи заголовка через регулярную конструкцию в словарь\n",
    "\n",
    "    header_re = re.compile(r'(?P<key>\\w*)\\s*(?P<value>.*)')\n",
    "    average_profile_re = re.compile(r'(?P<key>\\w*)\\s*(?P<value>.*)') \n",
    "\n",
    "    #res_dict = header_re.search(first_line).groupdict()\n",
    "\n",
    "    #header_list.append(res_dict[\"key\"])\n",
    "\n",
    "    for k in range(8):\n",
    "        line = f.readline()\n",
    "        res_dict = header_re.search(line).groupdict()\n",
    "        header_list.append(res_dict[\"key\"])\n",
    "        header[res_dict[\"key\"]] = res_dict[\"value\"] \n",
    "    \n",
    "    f.close()\n",
    "    \n",
    "    return header\n",
    "    "
   ]
  },
  {
   "cell_type": "code",
   "execution_count": 16,
   "metadata": {},
   "outputs": [],
   "source": [
    "numpoint_list = []\n",
    "for filename in average_profile_files:\n",
    "    header = read_pv_header(filename)\n",
    "    numpoint_list.append(header['numpointwin'])\n"
   ]
  },
  {
   "cell_type": "code",
   "execution_count": 17,
   "metadata": {},
   "outputs": [
    {
     "data": {
      "text/plain": [
       "['570',\n",
       " '570',\n",
       " '570',\n",
       " '570',\n",
       " '570',\n",
       " '570',\n",
       " '570',\n",
       " '570',\n",
       " '570',\n",
       " '570',\n",
       " '570',\n",
       " '570',\n",
       " '570',\n",
       " '570',\n",
       " '570',\n",
       " '570',\n",
       " '570',\n",
       " '570',\n",
       " '570',\n",
       " '570',\n",
       " '570',\n",
       " '570',\n",
       " '570',\n",
       " '570',\n",
       " '570',\n",
       " '570',\n",
       " '570',\n",
       " '570',\n",
       " '570',\n",
       " '570',\n",
       " '570',\n",
       " '570',\n",
       " '570',\n",
       " '570',\n",
       " '570',\n",
       " '570',\n",
       " '570',\n",
       " '570',\n",
       " '570',\n",
       " '570',\n",
       " '570',\n",
       " '570',\n",
       " '570',\n",
       " '570',\n",
       " '570',\n",
       " '570',\n",
       " '570',\n",
       " '570',\n",
       " '570',\n",
       " '570',\n",
       " '570',\n",
       " '570',\n",
       " '570',\n",
       " '570',\n",
       " '570',\n",
       " '570',\n",
       " '570',\n",
       " '570',\n",
       " '570',\n",
       " '570',\n",
       " '570',\n",
       " '570',\n",
       " '570',\n",
       " '570',\n",
       " '570',\n",
       " '570',\n",
       " '570',\n",
       " '570',\n",
       " '570',\n",
       " '570',\n",
       " '570',\n",
       " '570',\n",
       " '570',\n",
       " '570',\n",
       " '570',\n",
       " '570',\n",
       " '570',\n",
       " '570',\n",
       " '570',\n",
       " '570',\n",
       " '570',\n",
       " '570',\n",
       " '570',\n",
       " '570',\n",
       " '570',\n",
       " '570',\n",
       " '570',\n",
       " '570',\n",
       " '570',\n",
       " '570',\n",
       " '570',\n",
       " '570',\n",
       " '570',\n",
       " '570',\n",
       " '570',\n",
       " '570']"
      ]
     },
     "execution_count": 17,
     "metadata": {},
     "output_type": "execute_result"
    }
   ],
   "source": [
    "numpoint_list"
   ]
  },
  {
   "cell_type": "code",
   "execution_count": null,
   "metadata": {
    "collapsed": true
   },
   "outputs": [],
   "source": []
  }
 ],
 "metadata": {
  "kernelspec": {
   "display_name": "Python 3",
   "language": "python",
   "name": "python3"
  },
  "language_info": {
   "codemirror_mode": {
    "name": "ipython",
    "version": 3
   },
   "file_extension": ".py",
   "mimetype": "text/x-python",
   "name": "python",
   "nbconvert_exporter": "python",
   "pygments_lexer": "ipython3",
   "version": "3.5.2"
  }
 },
 "nbformat": 4,
 "nbformat_minor": 1
}
